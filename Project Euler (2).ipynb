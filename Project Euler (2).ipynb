{
 "cells": [
  {
   "cell_type": "markdown",
   "metadata": {},
   "source": [
    "# Problem Euler 19"
   ]
  },
  {
   "cell_type": "markdown",
   "metadata": {},
   "source": [
    "1 Jan 1900 was a Monday.\n",
    "Thirty days has September,\n",
    "April, June and November.\n",
    "All the rest have thirty-one,\n",
    "Saving February alone,\n",
    "Which has twenty-eight, rain or shine.\n",
    "And on leap years, twenty-nine.\n",
    "A leap year occurs on any year evenly divisible by 4, but not on a century unless it is divisible by 400.\n",
    "How many Sundays fell on the first of the month during the twentieth century (1 Jan 1901 to 31 Dec 2000)?]"
   ]
  },
  {
   "cell_type": "code",
   "execution_count": 2,
   "metadata": {},
   "outputs": [
    {
     "name": "stdout",
     "output_type": "stream",
     "text": [
      "171\n"
     ]
    }
   ],
   "source": [
    "from datetime import date\n",
    "\n",
    "sundays=0\n",
    "for year in range(1901,2001):\n",
    "    for month in range(1,13):\n",
    "        if date(year,month,1).weekday()==6:\n",
    "            sundays+=1\n",
    "print(sundays)"
   ]
  },
  {
   "cell_type": "markdown",
   "metadata": {},
   "source": [
    "# Problem Euler 166"
   ]
  },
  {
   "attachments": {
    "image.png": {
     "image/png": "[encoded data removed]"
    }
   },
   "cell_type": "markdown",
   "metadata": {},
   "source": [
    "A 4x4 grid is filled with digits d, 0 ≤ d ≤ 9.\n",
    "\n",
    "It can be seen that in the grid\n",
    "![image.png](attachment:image.png)\n",
    "\n",
    "the sum of each row and each column has the value 12. Moreover the sum of each diagonal is also 12.\n",
    "\n",
    "In how many ways can you fill a 4x4 grid with the digits d, 0 ≤ d ≤ 9 so that each row, each column, and both diagonals have the same sum?"
   ]
  },
  {
   "cell_type": "code",
   "execution_count": 7,
   "metadata": {},
   "outputs": [
    {
     "name": "stdout",
     "output_type": "stream",
     "text": [
      "7130034\n"
     ]
    }
   ],
   "source": [
    "def crisscross():\n",
    "    ans = 0\n",
    "    digitos = tuple(range(10))\n",
    "    for b in digitos:\n",
    "        for c in digitos:\n",
    "            for d in digitos:\n",
    "                for e in digitos:\n",
    "                    for i in digitos:\n",
    "                        m = b + c + d - e - i\n",
    "                        if m < 0 or m > 9: continue\n",
    "                        for k in digitos:\n",
    "                            f = b + c + d*2 - e - i - k\n",
    "                            if f < 0 or f > 9: continue\n",
    "                            for a in digitos:\n",
    "                                for g in digitos:\n",
    "                                    o = a + b + d - g - k\n",
    "                                    if o < 0 or o > 9: continue\n",
    "                                    j = a + b + c - g - m\n",
    "                                    if j < 0 or j > 9: continue\n",
    "                                    l = a + b + c + d - i - j - k\n",
    "                                    if l < 0 or l > 9: continue\n",
    "                                    h = a + b + c + d - e - f - g\n",
    "                                    if h < 0 or h > 9: continue\n",
    "                                    n = a + c + d - f - j\n",
    "                                    if n < 0 or n > 9: continue\n",
    "                                    p = a + b + c - h - l\n",
    "                                    if p < 0 or p > 9: continue\n",
    "                                    ans += 1\n",
    "    return str(ans)\n",
    "\n",
    "\n",
    "if __name__ == \"__main__\":\n",
    "    print(crisscross())\n"
   ]
  },
  {
   "cell_type": "markdown",
   "metadata": {},
   "source": [
    "# Project Euler 171"
   ]
  },
  {
   "cell_type": "markdown",
   "metadata": {},
   "source": [
    "For a positive integer n, let f(n) be the sum of the squares of the digits (in base 10) of n, e.g.\n",
    "\n",
    "f(3) = 32 = 9,\n",
    "f(25) = 22 + 52 = 4 + 25 = 29,\n",
    "f(442) = 42 + 42 + 22 = 16 + 16 + 4 = 36\n",
    "\n",
    "Find the last nine digits of the sum of all n, 0 < n < 1020, such that f(n) is a perfect square."
   ]
  },
  {
   "cell_type": "code",
   "execution_count": 4,
   "metadata": {},
   "outputs": [
    {
     "name": "stdout",
     "output_type": "stream",
     "text": [
      "142989277\n"
     ]
    }
   ],
   "source": [
    "import math\n",
    "\n",
    "DP = [None, {}]\n",
    "\n",
    "base = 10 \n",
    "num = 20 \n",
    "mod = 10**9\n",
    "\n",
    "s = 0\n",
    "for d in range(1, base):\n",
    "    DP[1][d * d] = {'sum': d, 'count': 1}\n",
    "    s += d\n",
    "\n",
    "for i in range(2, num + 1):\n",
    "    DP.append({})\n",
    "    for f, v in DP[i - 1].items():\n",
    "        for d in range(0, base):\n",
    "            f_p = f + d * d\n",
    "            if f_p not in DP[i]:\n",
    "                DP[i][f_p] = {'sum': 0, 'count': 0}\n",
    "            DP[i][f_p]['count'] += DP[i - 1][f]['count']\n",
    "            DP[i][f_p]['sum'] += 10 * DP[i - 1][f]['sum'] + d * DP[i - 1][f]['count']\n",
    "    for f, v in DP[i].items():\n",
    "        if math.floor(math.sqrt(f)) ** 2 == f:\n",
    "            s += v['sum']\n",
    "            s %= mod\n",
    "\n",
    "print(s)\n"
   ]
  },
  {
   "cell_type": "markdown",
   "metadata": {},
   "source": [
    "# Project Euler 250"
   ]
  },
  {
   "attachments": {},
   "cell_type": "markdown",
   "metadata": {},
   "source": [
    "Find the number of non-empty subsets of {11, 22, 33,..., 250250250250}, the sum of whose elements is divisible by 250. Enter the rightmost 16 digits as your answer."
   ]
  },
  {
   "cell_type": "code",
   "execution_count": 3,
   "metadata": {},
   "outputs": [
    {
     "name": "stdout",
     "output_type": "stream",
     "text": [
      "1425480602091520\n"
     ]
    }
   ],
   "source": [
    "W = [ [ 1 ] + [ 0 ] * 249, [ 0 ] * 250 ]\n",
    "for i in range( 1, 250250 + 1 ):\n",
    "    for q in range( 0, 250 ):\n",
    "        W[ i % 2 ][ q ] = ( W[ ( i + 1 ) % 2 ][ q ] + W[ ( i + 1 ) % 2 ][ ( q - pow( i, i, 250 ) ) % 250 ] ) % 10000000000000000\n",
    "print (W[ 0 ][ 0 ])"
   ]
  }
 ],
 "metadata": {
  "kernelspec": {
   "display_name": "Python 3",
   "language": "python",
   "name": "python3"
  },
  "language_info": {
   "codemirror_mode": {
    "name": "ipython",
    "version": 3
   },
   "file_extension": ".py",
   "mimetype": "text/x-python",
   "name": "python",
   "nbconvert_exporter": "python",
   "pygments_lexer": "ipython3",
   "version": "3.7.0"
  }
 },
 "nbformat": 4,
 "nbformat_minor": 2
}
